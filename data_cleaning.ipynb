{
 "cells": [
  {
   "cell_type": "code",
   "execution_count": 2,
   "id": "c11d7e03",
   "metadata": {},
   "outputs": [
    {
     "data": {
      "text/html": [
       "<div>\n",
       "<style scoped>\n",
       "    .dataframe tbody tr th:only-of-type {\n",
       "        vertical-align: middle;\n",
       "    }\n",
       "\n",
       "    .dataframe tbody tr th {\n",
       "        vertical-align: top;\n",
       "    }\n",
       "\n",
       "    .dataframe thead th {\n",
       "        text-align: right;\n",
       "    }\n",
       "</style>\n",
       "<table border=\"1\" class=\"dataframe\">\n",
       "  <thead>\n",
       "    <tr style=\"text-align: right;\">\n",
       "      <th></th>\n",
       "      <th>Country Code</th>\n",
       "      <th>Year of Availability</th>\n",
       "      <th>Country Name</th>\n",
       "    </tr>\n",
       "  </thead>\n",
       "  <tbody>\n",
       "    <tr>\n",
       "      <th>0</th>\n",
       "      <td>CA</td>\n",
       "      <td>2010</td>\n",
       "      <td>Canada</td>\n",
       "    </tr>\n",
       "    <tr>\n",
       "      <th>1</th>\n",
       "      <td>AR</td>\n",
       "      <td>2011</td>\n",
       "      <td>Argentina</td>\n",
       "    </tr>\n",
       "    <tr>\n",
       "      <th>2</th>\n",
       "      <td>BR</td>\n",
       "      <td>2011</td>\n",
       "      <td>Brazil</td>\n",
       "    </tr>\n",
       "    <tr>\n",
       "      <th>3</th>\n",
       "      <td>CL</td>\n",
       "      <td>2011</td>\n",
       "      <td>Chile</td>\n",
       "    </tr>\n",
       "    <tr>\n",
       "      <th>4</th>\n",
       "      <td>CO</td>\n",
       "      <td>2011</td>\n",
       "      <td>Colombia</td>\n",
       "    </tr>\n",
       "  </tbody>\n",
       "</table>\n",
       "</div>"
      ],
      "text/plain": [
       "  Country Code  Year of Availability Country Name\n",
       "0           CA                  2010       Canada\n",
       "1           AR                  2011    Argentina\n",
       "2           BR                  2011       Brazil\n",
       "3           CL                  2011        Chile\n",
       "4           CO                  2011     Colombia"
      ]
     },
     "execution_count": 2,
     "metadata": {},
     "output_type": "execute_result"
    }
   ],
   "source": [
    "import pandas as pd\n",
    "\n",
    "data = {\n",
    "    \"Country Code\": [\"CA\", \"AR\", \"BR\", \"CL\", \"CO\", \"CR\", \"CU\", \"DO\", \"EC\", \"SV\",\n",
    "                     \"GT\", \"HN\", \"MX\", \"NI\", \"PA\", \"PY\", \"PE\", \"PR\", \"UY\", \"VE\",\n",
    "                     \"GB\", \"IE\", \"DK\", \"FI\", \"NO\", \"SE\", \"NL\", \"BE\", \"LU\", \"FR\",\n",
    "                     \"DE\", \"AT\", \"CH\", \"LI\", \"IT\", \"PT\", \"ES\", \"IS\", \"GR\", \"CY\",\n",
    "                     \"MT\", \"AU\", \"NZ\", \"JP\", \"AL\", \"DZ\", \"AD\", \"AO\", \"AM\", \"AW\"],\n",
    "    \"Year of Availability\": [2010, 2011, 2011, 2011, 2011, 2011, 2011, 2011, 2011, 2011,\n",
    "                             2011, 2011, 2011, 2011, 2011, 2011, 2011, 2011, 2011, 2011,\n",
    "                             2012, 2012, 2012, 2012, 2012, 2012, 2013, 2014, 2014, 2014,\n",
    "                             2014, 2014, 2014, 2014, 2014, 2014, 2014, 2014, 2014, 2014,\n",
    "                             2015, 2015, 2015, 2016, 2016, 2016, 2016, 2016, 2016, 2016],\n",
    "    \"Country Name\": [\"Canada\", \"Argentina\", \"Brazil\", \"Chile\", \"Colombia\", \"Costa Rica\",\n",
    "                     \"Cuba\", \"Dominican Republic\", \"Ecuador\", \"El Salvador\", \"Guatemala\",\n",
    "                     \"Honduras\", \"Mexico\", \"Nicaragua\", \"Panama\", \"Paraguay\", \"Peru\",\n",
    "                     \"Puerto Rico\", \"Uruguay\", \"Venezuela\", \"United Kingdom\", \"Ireland\",\n",
    "                     \"Denmark\", \"Finland\", \"Norway\", \"Sweden\", \"Netherlands\", \"Belgium\",\n",
    "                     \"Luxembourg\", \"France\", \"Germany\", \"Austria\", \"Switzerland\",\n",
    "                     \"Liechtenstein\", \"Italy\", \"Portugal\", \"Spain\", \"Iceland\", \"Greece\",\n",
    "                     \"Cyprus\", \"Malta\", \"Australia\", \"New Zealand\", \"Japan\", \"Albania\",\n",
    "                     \"Algeria\", \"Andorra\", \"Angola\", \"Armenia\", \"Aruba\"]\n",
    "}\n",
    "\n",
    "df = pd.DataFrame(data)\n",
    "df.head()"
   ]
  },
  {
   "cell_type": "code",
   "execution_count": 3,
   "id": "aa473800",
   "metadata": {},
   "outputs": [
    {
     "data": {
      "text/plain": [
       "(50, 3)"
      ]
     },
     "execution_count": 3,
     "metadata": {},
     "output_type": "execute_result"
    }
   ],
   "source": [
    "df.shape"
   ]
  },
  {
   "cell_type": "code",
   "execution_count": null,
   "id": "141a8c00",
   "metadata": {},
   "outputs": [],
   "source": []
  }
 ],
 "metadata": {
  "kernelspec": {
   "display_name": "Python 3 (ipykernel)",
   "language": "python",
   "name": "python3"
  },
  "language_info": {
   "codemirror_mode": {
    "name": "ipython",
    "version": 3
   },
   "file_extension": ".py",
   "mimetype": "text/x-python",
   "name": "python",
   "nbconvert_exporter": "python",
   "pygments_lexer": "ipython3",
   "version": "3.10.12"
  },
  "toc": {
   "base_numbering": 1,
   "nav_menu": {},
   "number_sections": true,
   "sideBar": true,
   "skip_h1_title": false,
   "title_cell": "Table of Contents",
   "title_sidebar": "Contents",
   "toc_cell": false,
   "toc_position": {},
   "toc_section_display": true,
   "toc_window_display": false
  }
 },
 "nbformat": 4,
 "nbformat_minor": 5
}
